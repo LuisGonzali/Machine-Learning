{
 "cells": [
  {
   "cell_type": "code",
   "execution_count": 1,
   "metadata": {},
   "outputs": [
    {
     "name": "stderr",
     "output_type": "stream",
     "text": [
      "Using TensorFlow backend.\n"
     ]
    }
   ],
   "source": [
    "import tensorflow as tf\n",
    "import numpy as np\n",
    "import pandas as pd\n",
    "import random\n",
    "from random import seed\n",
    "import matplotlib.pyplot as plt\n",
    "from keras.models import Sequential\n",
    "from keras.layers import Dense, Dropout, Activation\n",
    "from keras.optimizers import adam\n",
    "from keras import optimizers\n",
    "from keras.utils import to_categorical\n",
    "import os\n",
    "\n",
    "tf.logging.set_verbosity(tf.logging.ERROR)"
   ]
  },
  {
   "cell_type": "code",
   "execution_count": 2,
   "metadata": {},
   "outputs": [],
   "source": [
    "# Data Processing\n",
    "dataset = \"Training.csv\"\n",
    "categories = [\"Background\", \"Signal\"]\n",
    "samples_class = 11500"
   ]
  },
  {
   "cell_type": "code",
   "execution_count": 3,
   "metadata": {},
   "outputs": [
    {
     "name": "stdout",
     "output_type": "stream",
     "text": [
      "\n",
      " Loading data from database file...\n"
     ]
    }
   ],
   "source": [
    "print(\"\\n Loading data from database file...\")\n",
    "data =  pd.read_csv(dataset) #.astype(np.float32)"
   ]
  },
  {
   "cell_type": "code",
   "execution_count": 4,
   "metadata": {},
   "outputs": [],
   "source": [
    "training = [data.loc[0:9199], data.loc[11500:20699]]\n",
    "training = pd.concat(training)\n",
    "training = training.sample(frac=1)\n",
    "training.reset_index(drop=True, inplace=True)\n",
    "exporta_csv = training.to_csv(r'a.csv',index=None, header=True)\n",
    "\n",
    "test = [data.loc[9200:11499], data.loc[20700:22999]]\n",
    "test = pd.concat(test)\n",
    "test = test.sample(frac=1)\n",
    "test.reset_index(drop=True, inplace=True)\n",
    "exportb_csv = test.to_csv(r'b.csv',index=None, header=True)"
   ]
  },
  {
   "cell_type": "code",
   "execution_count": 5,
   "metadata": {},
   "outputs": [
    {
     "name": "stdout",
     "output_type": "stream",
     "text": [
      "\n",
      " Generating training and test data...\n",
      "\n",
      " Total samples:    23000 \n",
      "\n",
      " Training samples: 18400 \n",
      "\n",
      " Test samples:     4600 \n"
     ]
    }
   ],
   "source": [
    "print(\"\\n Generating training and test data...\")\n",
    "#Cols info:\n",
    "# 0 - E1         # 1 - px1         # 2 - py1         # 3 - pz1\n",
    "# 4 - pt1        # 5 - eta1        # 6 - phi1        # 7 - E2\n",
    "# 8 - px2        # 9 - py2         # 10 - pz2        # 11 - pt2\n",
    "# 12 - eta2      # 13 - phi2       # 14 - M          # 15 - Rapidity \n",
    "# 16 - Pt        # 17 - Class      # 18 - R(phi)     # 19 - Teta (phi)\n",
    "\n",
    "x_train = np.loadtxt('a.csv', delimiter = ',', skiprows=1,\n",
    "                            usecols = (6,13,14), unpack=True)\n",
    "x_train = x_train.T\n",
    "y_train = np.loadtxt('a.csv', delimiter = ',', skiprows=1, dtype = 'str', \n",
    "                            usecols = (17), unpack=True)\n",
    "\n",
    "x_test = np.loadtxt('b.csv', delimiter = ',', skiprows=1,\n",
    "                            usecols = (6,13,14), unpack=True)\n",
    "x_test = x_test.T\n",
    "y_test = np.loadtxt('b.csv', delimiter = ',', skiprows=1, dtype = 'str', \n",
    "                            usecols = (17), unpack=True)\n",
    "print(\"\\n Total samples:    {} \".format(len(x_train)+len(x_test)))\n",
    "print(\"\\n Training samples: {} \".format(len(y_train)))\n",
    "print(\"\\n Test samples:     {} \".format(len(y_test)))"
   ]
  },
  {
   "cell_type": "code",
   "execution_count": 6,
   "metadata": {},
   "outputs": [],
   "source": [
    "del data\n",
    "del training\n",
    "del test \n",
    "os.remove(\"a.csv\")\n",
    "os.remove(\"b.csv\")"
   ]
  },
  {
   "cell_type": "code",
   "execution_count": 7,
   "metadata": {},
   "outputs": [],
   "source": [
    "#===============================================================================\n",
    "#======================== Model Building =======================================\n",
    "#===============================================================================\n",
    "x_train = tf.keras.utils.normalize(x_train, axis=1)\n",
    "x_test = tf.keras.utils.normalize(x_test, axis=1)\n",
    "\n",
    "epochs = 20\n",
    "num_features = 3\n",
    "num_classes = 2\n",
    "batch_size = 32\n",
    "\n",
    "y_train = to_categorical(y_train)\n",
    "y_test = to_categorical(y_test)"
   ]
  },
  {
   "cell_type": "code",
   "execution_count": 8,
   "metadata": {},
   "outputs": [
    {
     "name": "stdout",
     "output_type": "stream",
     "text": [
      "\n",
      " Building model...\n",
      "\n",
      " Compiling model...\n",
      "\n",
      " Fitting model...\n",
      "Train on 18400 samples, validate on 4600 samples\n",
      "Epoch 1/20\n",
      "18400/18400 [==============================] - 3s 141us/step - loss: 0.4197 - acc: 0.7982 - val_loss: 0.2235 - val_acc: 0.9815\n",
      "Epoch 2/20\n",
      "18400/18400 [==============================] - 2s 82us/step - loss: 0.3445 - acc: 0.8532 - val_loss: 0.3088 - val_acc: 0.8889\n",
      "Epoch 3/20\n",
      "18400/18400 [==============================] - 1s 81us/step - loss: 0.3316 - acc: 0.8574 - val_loss: 0.5872 - val_acc: 0.5061\n",
      "Epoch 4/20\n",
      "18400/18400 [==============================] - 1s 80us/step - loss: 0.3246 - acc: 0.8557 - val_loss: 0.3335 - val_acc: 0.8857\n",
      "Epoch 5/20\n",
      "18400/18400 [==============================] - 2s 82us/step - loss: 0.3130 - acc: 0.8538 - val_loss: 0.2236 - val_acc: 0.9133\n",
      "Epoch 6/20\n",
      "18400/18400 [==============================] - 2s 85us/step - loss: 0.2876 - acc: 0.8605 - val_loss: 0.1353 - val_acc: 0.9620\n",
      "Epoch 7/20\n",
      "18400/18400 [==============================] - 2s 97us/step - loss: 0.2862 - acc: 0.8562 - val_loss: 0.1677 - val_acc: 0.9372\n",
      "Epoch 8/20\n",
      "18400/18400 [==============================] - 2s 94us/step - loss: 0.2810 - acc: 0.8574 - val_loss: 0.1047 - val_acc: 0.9872\n",
      "Epoch 9/20\n",
      "18400/18400 [==============================] - 2s 89us/step - loss: 0.2763 - acc: 0.8611 - val_loss: 0.0899 - val_acc: 0.9817\n",
      "Epoch 10/20\n",
      "18400/18400 [==============================] - 2s 85us/step - loss: 0.2679 - acc: 0.8676 - val_loss: 0.0820 - val_acc: 0.9915\n",
      "Epoch 11/20\n",
      "18400/18400 [==============================] - 2s 86us/step - loss: 0.2664 - acc: 0.8692 - val_loss: 0.0848 - val_acc: 0.9889\n",
      "Epoch 12/20\n",
      "18400/18400 [==============================] - 1s 79us/step - loss: 0.2616 - acc: 0.8688 - val_loss: 0.0613 - val_acc: 0.9911\n",
      "Epoch 13/20\n",
      "18400/18400 [==============================] - 2s 92us/step - loss: 0.2658 - acc: 0.8618 - val_loss: 0.0706 - val_acc: 0.9909\n",
      "Epoch 14/20\n",
      "18400/18400 [==============================] - 2s 83us/step - loss: 0.2637 - acc: 0.8672 - val_loss: 0.1118 - val_acc: 0.9754\n",
      "Epoch 15/20\n",
      "18400/18400 [==============================] - 2s 103us/step - loss: 0.2645 - acc: 0.8642 - val_loss: 0.0759 - val_acc: 0.9922\n",
      "Epoch 16/20\n",
      "18400/18400 [==============================] - 2s 87us/step - loss: 0.2616 - acc: 0.8667 - val_loss: 0.0614 - val_acc: 0.9902\n",
      "Epoch 17/20\n",
      "18400/18400 [==============================] - 2s 91us/step - loss: 0.2546 - acc: 0.8720 - val_loss: 0.0624 - val_acc: 0.9885\n",
      "Epoch 18/20\n",
      "18400/18400 [==============================] - 2s 93us/step - loss: 0.2599 - acc: 0.8691 - val_loss: 0.0638 - val_acc: 0.9911\n",
      "Epoch 19/20\n",
      "18400/18400 [==============================] - 2s 89us/step - loss: 0.2612 - acc: 0.8680 - val_loss: 0.0638 - val_acc: 0.9861\n",
      "Epoch 20/20\n",
      "18400/18400 [==============================] - 2s 90us/step - loss: 0.2529 - acc: 0.8726 - val_loss: 0.0645 - val_acc: 0.9878\n"
     ]
    }
   ],
   "source": [
    "# Build model\n",
    "print(\"\\n Building model...\")\n",
    "model = Sequential()\n",
    "model.add(Dropout(0.2))\n",
    "model.add(Dense(256, input_shape=(3,), activation='relu'))\n",
    "model.add(Dense(128, activation='relu'))\n",
    "\n",
    "model.add(Dense(num_classes,activation=tf.nn.softmax))\n",
    "\n",
    "print(\"\\n Compiling model...\")\n",
    "opt = adam(lr=0.01, beta_1=0.9, beta_2=0.99, epsilon=None, decay=0.0, amsgrad=False)\n",
    "# Compile model\n",
    "model.compile(\n",
    "    loss='categorical_crossentropy',\n",
    "    optimizer=opt,\n",
    "    metrics=['accuracy']\n",
    ")\n",
    "\n",
    "#print(model.summary())\n",
    "\n",
    "print(\"\\n Fitting model...\")\n",
    "history = model.fit(x_train, y_train, epochs = epochs, batch_size = batch_size, validation_data = (x_test, y_test))"
   ]
  },
  {
   "cell_type": "code",
   "execution_count": 9,
   "metadata": {},
   "outputs": [
    {
     "data": {
      "image/png": "[encoded data removed]",
      "text/plain": [
       "<Figure size 432x288 with 1 Axes>"
      ]
     },
     "metadata": {
      "needs_background": "light"
     },
     "output_type": "display_data"
    }
   ],
   "source": [
    "#plt.figure(figsize=(5,3))\n",
    "plt.plot(history.epoch,history.history['loss'], label='training')\n",
    "plt.plot(history.epoch,history.history['val_loss'], label='validation')\n",
    "plt.title('loss')\n",
    "plt.legend(loc='best')\n",
    "plt.show()"
   ]
  },
  {
   "cell_type": "code",
   "execution_count": 10,
   "metadata": {},
   "outputs": [
    {
     "data": {
      "image/png": "[encoded data removed]",
      "text/plain": [
       "<Figure size 432x288 with 1 Axes>"
      ]
     },
     "metadata": {
      "needs_background": "light"
     },
     "output_type": "display_data"
    }
   ],
   "source": [
    "#plt.figure(figsize=(5,3))\n",
    "plt.plot(history.epoch,history.history['acc'], label='training')\n",
    "plt.plot(history.epoch,history.history['val_acc'], label='validation')\n",
    "plt.title('accuracy')\n",
    "plt.legend(loc='best')\n",
    "plt.show()"
   ]
  },
  {
   "cell_type": "code",
   "execution_count": 11,
   "metadata": {},
   "outputs": [
    {
     "name": "stdout",
     "output_type": "stream",
     "text": [
      "Prediction [[0.00582815 0.9941718 ]]\n",
      "Real Classification [0. 1.]\n",
      "This event is Background\n"
     ]
    }
   ],
   "source": [
    "# Prediction on training data\n",
    "\n",
    "a = 388\n",
    "print ('Prediction', model.predict([[x_train[a]]]))\n",
    "print ('Real Classification', y_train[a])\n",
    "print ('This event is', categories[int(model.predict([[x_train[a]]])[0][0])])"
   ]
  },
  {
   "cell_type": "code",
   "execution_count": 12,
   "metadata": {},
   "outputs": [],
   "source": [
    "# Prediction with test data\n",
    "dataset2 = \"TestData.csv\""
   ]
  },
  {
   "cell_type": "code",
   "execution_count": 15,
   "metadata": {},
   "outputs": [],
   "source": [
    "#Cols info:\n",
    "# 0 - E1         # 1 - px1         # 2 - py1         # 3 - pz1\n",
    "# 4 - pt1        # 5 - eta1        # 6 - phi1        # 7 - E2\n",
    "# 8 - px2        # 9 - py2         # 10 - pz2        # 11 - pt2\n",
    "# 12 - eta2      # 13 - phi2       # 14 - M          # 15 - Rapidity\n",
    "# 16 - Pt        # 17 - R(phi)     # 19 - Teta (phi)\n",
    "x_Test = np.loadtxt(dataset2, delimiter = ',', skiprows=1,\n",
    "                            usecols = (6,13,14), unpack=True)\n",
    "x_Test = x_Test.T\n",
    "x_Test = tf.keras.utils.normalize(x_Test, axis=1)"
   ]
  },
  {
   "cell_type": "code",
   "execution_count": 16,
   "metadata": {},
   "outputs": [
    {
     "name": "stdout",
     "output_type": "stream",
     "text": [
      "Prediction [[9.999994e-01 5.842503e-07]]\n",
      "This event is Background\n"
     ]
    }
   ],
   "source": [
    "# Choose a number from 0 to 10342\n",
    "b = 10342\n",
    "print ('Prediction', model.predict([[x_Test[b]]]))\n",
    "print ('This event is', categories[int(model.predict([[x_Test[b]]])[0][0])])"
   ]
  },
  {
   "cell_type": "code",
   "execution_count": null,
   "metadata": {},
   "outputs": [],
   "source": [
    "print (x_Test[b])"
   ]
  },
  {
   "cell_type": "code",
   "execution_count": null,
   "metadata": {},
   "outputs": [],
   "source": []
  }
 ],
 "metadata": {
  "kernelspec": {
   "display_name": "Python 3",
   "language": "python",
   "name": "python3"
  },
  "language_info": {
   "codemirror_mode": {
    "name": "ipython",
    "version": 3
   },
   "file_extension": ".py",
   "mimetype": "text/x-python",
   "name": "python",
   "nbconvert_exporter": "python",
   "pygments_lexer": "ipython3",
   "version": "3.7.3"
  }
 },
 "nbformat": 4,
 "nbformat_minor": 2
}
